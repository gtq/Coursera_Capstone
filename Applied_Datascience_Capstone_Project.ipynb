{
 "cells": [
  {
   "cell_type": "markdown",
   "metadata": {},
   "source": [
    "### This Notebook will be used for the Applied Datascience Capstone Project. \n",
    "\n",
    "### The Capstone project is the culminating activity for the IBM Datascience Professional Certificate. The Certificate covers a broad range of topics ranging from data science methodology, data analysis with python to data visualization and machine learning.\n"
   ]
  },
  {
   "cell_type": "markdown",
   "metadata": {},
   "source": [
    "### Table of Contents\n",
    "1. [Introduction](#introduction)\n",
    "2. [Literature Review](#literature-review)\n",
    "3. [Data](#data)\n",
    "4. [Methodology](#methodology)\n",
    "5. [Results](#results)\n",
    "6. [Discussion](#discussion)\n",
    "7. [Conclusion](#conclusion)\n",
    "8. [Bibliography](#bibliography)\n"
   ]
  },
  {
   "cell_type": "markdown",
   "metadata": {},
   "source": [
    "### Introduction"
   ]
  },
  {
   "cell_type": "markdown",
   "metadata": {},
   "source": [
    "Toronto is a city with a large immigrant population. However, migration is an expensive and risky endeavor for many migrants. Therefore, an informed approach to immigration is a wise thing to do. Two very broad strategies to the migration effort would be either: trend following or trend setting. \n",
    "\n",
    "In trend following, the prospective migrant tries to find out how others have migrated. The basics would have to be covered such as source of income which is typically through employment and place of residence. The presence of food sellers catering to particular food types within a neighborhood might be helpful in gaining an understanding of the residents within the area.\n",
    "\n",
    "The other strategy to migration is probably more appealing to those with an entrepreneurial mindset. This approach involves trying to find out what are the potential growth areas. Trying to find out what are the products and services needed but are missing from a neighborhood can be a another strategy for the business minded migrant. Since it is enterpreneurial in approach, it is also more risky because sometimes missing products and services can indicate that there is no need or demand for the absent products or services.\n",
    "\n",
    "No matter the strategy adopted, a deeper understanding of the target neighborhood for immigration would definitely be better than immigrating without a clue about the destination neighborhood. \n",
    "\n",
    "This project seeks to answer the question of what does it take to successfully immigrate into Canada, and Toronto in particular.\n",
    "\n",
    "As a strategy, this project will profile the neighborhoods in terms of demographic information  compare this against employment and business licensing information. This project will attempt to see if there are useful success patterns that can be established. This profiling exercise will also attempt to find any possible areas of growth that may provide business opportunities."
   ]
  },
  {
   "cell_type": "markdown",
   "metadata": {},
   "source": [
    "### Literature Review\n",
    "\n",
    "Canada is considered one of the more successful models in terms of immigration. \n",
    "Canada has a relatively large immigrant labour force both temporary and permanent. (Liebig 2016)\n",
    "In Canada, migrants comprise about 20.6% of the entire population. In Toronto alone, immigrants account\n",
    "for 33% of the entire population (Government of Canada, 2020). \n",
    "\n",
    "There are primarily four factors seen to contribute to successful migrant integration as suggested by a paper on immigrant integration. (Government of Canada, 2020)\n",
    "These factors are: the migrant skills, stakeholder attitude, early information access and settlement location.\n",
    "The challenges to attracting the right skills and talent aside, larger companies have better bandwidth and resources to\n",
    "welcome migrants as contrasted to smaller enterprises. Information access and access to relevant work networks is dependent\n",
    "on the immigrant support organizations in the area assigned to the migrants. According to the same paper, region of first settlement may\n",
    "not necessarily be the place of eventual settlment and the right conditions have to be in place in order for migrants to feel\n",
    "a connection and community. Another article suggests that perhaps some tax relief and residence acquisition assistance would help migrants in settling better (Hosseini, 2017)\n",
    "Whichever the case may be, the new migrant labourer requires access to employment that would probably be provided by larger\n",
    "employers due to employer capacity and network with the supporting organizations. The exception might be that of nursing care workers who use a specialized route for migration (Liston & Carens, 2008)\n",
    "which would gravitate toward areas where larger populations of elderly reside.\n",
    "\n",
    "On the flip side, survival enterpreneurs would need access to people of similar culture and ethnic background to support their business. (Chrysostome, 2010)\n",
    "This means that success of survival enterpreneurs would gravitate to the proximity of the areas with large settlement of a particular ethnic group."
   ]
  },
  {
   "cell_type": "markdown",
   "metadata": {},
   "source": [
    "### Data\n",
    "\n",
    "One advantage of using Toronto as a city of study is the availability of data collected in the open data initiative of the city. \n",
    "\n",
    "Using foursquare in combination with business registrations in the city, we are able to home in on businesses which can potentially provide employment for would be migrants. We would definitely detail out the nature of the businesses in the city to get a good picture for matching with the migrants. Census data can show the concentration of elderly in the city, another source of employment for aspiring migrants.\n",
    "\n",
    "Census data would once again be helpful in seeking out the residence areas and concentration of particular ethnic groups which are extremely vital for the survival enterpreneurs.\n",
    "\n",
    "The primary data tools of choice would be descriptive in nature. In terms of describing what is already on the ground, the communities and the possible employment opportunities. However, it might also be useful to run some clustering analysis to validate some assumptions provided in the literature review. Cluster analysis may also provide some serendipitous insights as well.\n",
    "\n",
    "Aside from Foursquare and map data, the following datasets would be used:\n",
    "- Toronto Open Data: https://https://open.toronto.ca\n",
    "    - Ward Profiles, 2018 (25-Ward Model): https://open.toronto.ca/dataset/ward-profiles-2018-25-ward-model/\n",
    "    - Municipal Licensing and Standards - Business Licences and Permits: https://open.toronto.ca/dataset/municipal-licensing-and-standards-business-licences-and-permits/\n",
    "    - Toronto Employment Survey Summary Tables: https://open.toronto.ca/dataset/toronto-employment-survey-summary-tables/\n"
   ]
  },
  {
   "cell_type": "markdown",
   "metadata": {},
   "source": [
    "### Methodology"
   ]
  },
  {
   "cell_type": "markdown",
   "metadata": {},
   "source": [
    "- section to follow -"
   ]
  },
  {
   "cell_type": "markdown",
   "metadata": {},
   "source": [
    "### Results"
   ]
  },
  {
   "cell_type": "markdown",
   "metadata": {},
   "source": [
    "- section to follow -"
   ]
  },
  {
   "cell_type": "code",
   "execution_count": 1,
   "metadata": {},
   "outputs": [],
   "source": [
    "import pandas as pd\n",
    "import numpy as np"
   ]
  },
  {
   "cell_type": "markdown",
   "metadata": {},
   "source": [
    "### Discussion"
   ]
  },
  {
   "cell_type": "markdown",
   "metadata": {},
   "source": [
    "- section to follow -"
   ]
  },
  {
   "cell_type": "markdown",
   "metadata": {},
   "source": [
    "### Conclusion"
   ]
  },
  {
   "cell_type": "markdown",
   "metadata": {},
   "source": [
    "- section to follow -"
   ]
  },
  {
   "cell_type": "markdown",
   "metadata": {},
   "source": [
    "### Bibliography\n",
    "\n",
    "8 things immigrants should know about working in canada. Randstad Canada, n.d. https://www.randstad.ca/job-seeker/career-resources/working-in-canada/8-things-immigrants-should-know-about-working-in-canada/.\n",
    "    \n",
    "Canada, Employment and Social Development. “Survival to Success: Transforming Immigrant Outcomes.” Canada.ca. Government of Canada, June 8, 2020. https://www.canada.ca/en/employment-social-development/programs/foreign-credential-recognition/consultations.html.\n",
    "        \n",
    "Chrysostome, Elie. “(PDF) The Success Factors of Necessity Immigrant Entrepreneurs: In Search of a Model.” ResearchGate. Thunderbird International Business Review, March 2010. https://www.researchgate.net/publication/229907244_The_success_factors_of_necessity_immigrant_entrepreneurs_In_search_of_a_model.\n",
    "        \n",
    "Griffith, Andrew. “Building a Mosaic: The Evolution of Canada's Approach to Immigrant Integration.” migrationpolicy.org. Migration Policy Institute, April 3, 2019. https://www.migrationpolicy.org/article/building-mosaic-evolution-canadas-approach-immigrant-integration.\n",
    "    \n",
    "Hosseini, Mana. “Is Canada Doing All It Can To Integrate New Immigrants?” Canada Immigration and Visa Information. Canadian Immigration Services and Free Online Evaluation. Canadian Citizenship &amp; Immigration Resource Center (CCIRC), August 21, 2017. https://www.immigration.ca/canada-can-integrate-new-immigrants.\n",
    "    \n",
    "Liebig, Thomas. “Recruiting for Success Challenges for Canada’s Labour Migration System.” OECD.org, November 2016. http://www.oecd.org/migration/mig/recruiting-for-success-Canada.pdf.\n",
    "\n",
    "Liston, Mary, and Joseph Carens. “Immigration and Integration in Canada.” Allard Research Commons. University of British Columbia, 2008. https://commons.allard.ubc.ca/cgi/viewcontent.cgi?article=1208&context=fac_pubs."
   ]
  },
  {
   "cell_type": "code",
   "execution_count": null,
   "metadata": {},
   "outputs": [],
   "source": []
  }
 ],
 "metadata": {
  "kernelspec": {
   "display_name": "Python 3",
   "language": "python",
   "name": "python3"
  },
  "language_info": {
   "codemirror_mode": {
    "name": "ipython",
    "version": 3
   },
   "file_extension": ".py",
   "mimetype": "text/x-python",
   "name": "python",
   "nbconvert_exporter": "python",
   "pygments_lexer": "ipython3",
   "version": "3.7.4"
  }
 },
 "nbformat": 4,
 "nbformat_minor": 4
}
