{
 "cells": [
  {
   "cell_type": "markdown",
   "metadata": {},
   "source": [
    "### This Notebook is for the IBM Applied Datascience Capstone Project.\n",
    "\n",
    "#### The Capstone project is the culminating activity for the IBM Datascience Professional Certificate. The Certificate covers a broad range of topics ranging from data science methodology, data analysis with python to data visualization and machine learning."
   ]
  },
  {
   "cell_type": "markdown",
   "metadata": {},
   "source": [
    "### Table of Contents\n",
    "1. [Introduction](#introduction)\n",
    "2. [Literature Review](#literature-review)\n",
    "3. [Data](#data)\n",
    "4. [Methodology](#methodology)\n",
    "5. [Results](#results)\n",
    "6. [Discussion](#discussion)\n",
    "7. [Conclusion](#conclusion)\n",
    "8. [Bibliography](#bibliography)"
   ]
  },
  {
   "cell_type": "markdown",
   "metadata": {},
   "source": [
    "### Introduction"
   ]
  },
  {
   "cell_type": "markdown",
   "metadata": {},
   "source": [
    "Over 20 years ago, I was driving a car to a business presentation. I was running late and I was in a hurry. I miscalculated a turn on the road and got into a vehicular accident. Two people had to be brought to the hospital because of that accident. I was traumatized by the accident and I could not bring myself to drive for many months. \n",
    "I am sure it must've been traumatic for the other people as well.\n",
    "\n",
    "A few weeks after my accident, another vehicular accident occurred again in more or less the same intersection. Data science was not really as popular a field as it is today. Not too many people make this kind of analysis in my country. However, it is possible that the design of the street intersection needed some attention. Maybe the street needed a few more warning signs. Perhaps the accident was just driver error and the accidents were just coincidence.\n",
    "\n",
    "The accident I had was just within walking distance from a large university. In fact, one of the people that had to be brought to the hospital was a young college student. In another unrelated accident, one child was killed along with seven other injured children while crossing a pedestrian lane while coming home from school.\n",
    "\n",
    "<b>This study seeks to answer the following questions:</b> Are there systematic dangers to be found in street systems? In other words, are there places where accidents typically happens? Under what conditions do these accidents happen? What factors are most correlated and how likely do particular factors get associated with pedestrian related accidents? Are pedestrian accidents more associated with environmental conditions? or are pedestrial accidents more associated with driver conditions?\n",
    "\n",
    "<b>This study is meant to be informative <u>for parents with school children</u> and <u>for people involved in designing streets and operating community streets especially in the vicinity of schools</u>.</b>\n",
    "\n"
   ]
  },
  {
   "cell_type": "markdown",
   "metadata": {},
   "source": [
    "### Data"
   ]
  },
  {
   "cell_type": "markdown",
   "metadata": {},
   "source": [
    "Data to be used in this study uses the following provided dataset: https://s3.us.cloud-object-storage.appdomain.cloud/cf-courses-data/CognitiveClass/DP0701EN/version-2/Data-Collisions.csv\n",
    "\n",
    "From the dataset, a subset would be extracted to include only accidents that involve pedestrians.\n",
    "From this subset dataset, particular groups of columns would be picked out. Firstly, columns indicating\n",
    "the accident environment and context would be selected. These columns would include factors such as\n",
    "the location (X,Y), if the accident was on a crosswalk, the date and time of accident, the weather, road conditions, and lighting conditions.\n",
    "\n",
    "Secondly, factors to describe the driver factors would be included. These are columns that would describe\n",
    "if the driver was under influence, if the driver was speeding or if the driver was simply not paying attention.\n",
    "\n",
    "Lastly, the severity of the accident and impact of the accident would be included in the analysis. This includes the number of persons involved and severity of injuries.\n",
    "\n",
    "After some data cleanup and preparation, a correlation will be done to check if some factors are highly correlated with each other. This correlation should show if driver factors are more likely to cause some pedestrian accidents or if particular environment conditions are more likely to be associated. \n",
    "\n",
    "A cluster analysis would also be conducted to check if certain parts of the city are tend to have more pedestrian accidents. We may be able to discover that perhaps certain times of the year or certain days are more likely related to pedestrian accidents."
   ]
  },
  {
   "cell_type": "code",
   "execution_count": null,
   "metadata": {},
   "outputs": [],
   "source": [
    "### Methodology"
   ]
  },
  {
   "cell_type": "code",
   "execution_count": 7,
   "metadata": {},
   "outputs": [
    {
     "name": "stderr",
     "output_type": "stream",
     "text": [
      "/Users/gquisumbing/.pyenv/versions/3.7.3/lib/python3.7/site-packages/IPython/core/interactiveshell.py:3146: DtypeWarning: Columns (33) have mixed types.Specify dtype option on import or set low_memory=False.\n",
      "  interactivity=interactivity, compiler=compiler, result=result)\n"
     ]
    },
    {
     "data": {
      "text/plain": [
       "(194673, 17)"
      ]
     },
     "execution_count": 7,
     "metadata": {},
     "output_type": "execute_result"
    }
   ],
   "source": [
    "import pandas as pd\n",
    "df = pd.read_csv(\"./data/Data-Collisions.csv\",usecols=[\"SEVERITYCODE\",\"ST_COLCODE\",\"COLLISIONTYPE\",\"PERSONCOUNT\",\"PEDCOUNT\",\"INCDATE\",\"INCDTTM\", \"X\", \"Y\",\"ROADCOND\",\"LIGHTCOND\",\"WEATHER\",\"CROSSWALKKEY\",\"INATTENTIONIND\",\"UNDERINFL\",\"PEDROWNOTGRNT\",\"SPEEDING\"])\n",
    "df.shape"
   ]
  },
  {
   "cell_type": "code",
   "execution_count": 13,
   "metadata": {},
   "outputs": [
    {
     "data": {
      "text/plain": [
       "6939"
      ]
     },
     "execution_count": 13,
     "metadata": {},
     "output_type": "execute_result"
    }
   ],
   "source": [
    "len(df[df[\"PEDCOUNT\"]>0])"
   ]
  },
  {
   "cell_type": "code",
   "execution_count": 8,
   "metadata": {},
   "outputs": [
    {
     "data": {
      "text/html": [
       "<div>\n",
       "<style scoped>\n",
       "    .dataframe tbody tr th:only-of-type {\n",
       "        vertical-align: middle;\n",
       "    }\n",
       "\n",
       "    .dataframe tbody tr th {\n",
       "        vertical-align: top;\n",
       "    }\n",
       "\n",
       "    .dataframe thead th {\n",
       "        text-align: right;\n",
       "    }\n",
       "</style>\n",
       "<table border=\"1\" class=\"dataframe\">\n",
       "  <thead>\n",
       "    <tr style=\"text-align: right;\">\n",
       "      <th></th>\n",
       "      <th>SEVERITYCODE</th>\n",
       "      <th>X</th>\n",
       "      <th>Y</th>\n",
       "      <th>COLLISIONTYPE</th>\n",
       "      <th>PERSONCOUNT</th>\n",
       "      <th>PEDCOUNT</th>\n",
       "      <th>INCDATE</th>\n",
       "      <th>INCDTTM</th>\n",
       "      <th>INATTENTIONIND</th>\n",
       "      <th>UNDERINFL</th>\n",
       "      <th>WEATHER</th>\n",
       "      <th>ROADCOND</th>\n",
       "      <th>LIGHTCOND</th>\n",
       "      <th>PEDROWNOTGRNT</th>\n",
       "      <th>SPEEDING</th>\n",
       "      <th>ST_COLCODE</th>\n",
       "      <th>CROSSWALKKEY</th>\n",
       "    </tr>\n",
       "  </thead>\n",
       "  <tbody>\n",
       "    <tr>\n",
       "      <th>0</th>\n",
       "      <td>2</td>\n",
       "      <td>-122.323148</td>\n",
       "      <td>47.703140</td>\n",
       "      <td>Angles</td>\n",
       "      <td>2</td>\n",
       "      <td>0</td>\n",
       "      <td>2013/03/27 00:00:00+00</td>\n",
       "      <td>3/27/2013 2:54:00 PM</td>\n",
       "      <td>NaN</td>\n",
       "      <td>N</td>\n",
       "      <td>Overcast</td>\n",
       "      <td>Wet</td>\n",
       "      <td>Daylight</td>\n",
       "      <td>NaN</td>\n",
       "      <td>NaN</td>\n",
       "      <td>10</td>\n",
       "      <td>0</td>\n",
       "    </tr>\n",
       "    <tr>\n",
       "      <th>1</th>\n",
       "      <td>1</td>\n",
       "      <td>-122.347294</td>\n",
       "      <td>47.647172</td>\n",
       "      <td>Sideswipe</td>\n",
       "      <td>2</td>\n",
       "      <td>0</td>\n",
       "      <td>2006/12/20 00:00:00+00</td>\n",
       "      <td>12/20/2006 6:55:00 PM</td>\n",
       "      <td>NaN</td>\n",
       "      <td>0</td>\n",
       "      <td>Raining</td>\n",
       "      <td>Wet</td>\n",
       "      <td>Dark - Street Lights On</td>\n",
       "      <td>NaN</td>\n",
       "      <td>NaN</td>\n",
       "      <td>11</td>\n",
       "      <td>0</td>\n",
       "    </tr>\n",
       "    <tr>\n",
       "      <th>2</th>\n",
       "      <td>1</td>\n",
       "      <td>-122.334540</td>\n",
       "      <td>47.607871</td>\n",
       "      <td>Parked Car</td>\n",
       "      <td>4</td>\n",
       "      <td>0</td>\n",
       "      <td>2004/11/18 00:00:00+00</td>\n",
       "      <td>11/18/2004 10:20:00 AM</td>\n",
       "      <td>NaN</td>\n",
       "      <td>0</td>\n",
       "      <td>Overcast</td>\n",
       "      <td>Dry</td>\n",
       "      <td>Daylight</td>\n",
       "      <td>NaN</td>\n",
       "      <td>NaN</td>\n",
       "      <td>32</td>\n",
       "      <td>0</td>\n",
       "    </tr>\n",
       "    <tr>\n",
       "      <th>3</th>\n",
       "      <td>1</td>\n",
       "      <td>-122.334803</td>\n",
       "      <td>47.604803</td>\n",
       "      <td>Other</td>\n",
       "      <td>3</td>\n",
       "      <td>0</td>\n",
       "      <td>2013/03/29 00:00:00+00</td>\n",
       "      <td>3/29/2013 9:26:00 AM</td>\n",
       "      <td>NaN</td>\n",
       "      <td>N</td>\n",
       "      <td>Clear</td>\n",
       "      <td>Dry</td>\n",
       "      <td>Daylight</td>\n",
       "      <td>NaN</td>\n",
       "      <td>NaN</td>\n",
       "      <td>23</td>\n",
       "      <td>0</td>\n",
       "    </tr>\n",
       "    <tr>\n",
       "      <th>4</th>\n",
       "      <td>2</td>\n",
       "      <td>-122.306426</td>\n",
       "      <td>47.545739</td>\n",
       "      <td>Angles</td>\n",
       "      <td>2</td>\n",
       "      <td>0</td>\n",
       "      <td>2004/01/28 00:00:00+00</td>\n",
       "      <td>1/28/2004 8:04:00 AM</td>\n",
       "      <td>NaN</td>\n",
       "      <td>0</td>\n",
       "      <td>Raining</td>\n",
       "      <td>Wet</td>\n",
       "      <td>Daylight</td>\n",
       "      <td>NaN</td>\n",
       "      <td>NaN</td>\n",
       "      <td>10</td>\n",
       "      <td>0</td>\n",
       "    </tr>\n",
       "  </tbody>\n",
       "</table>\n",
       "</div>"
      ],
      "text/plain": [
       "   SEVERITYCODE           X          Y COLLISIONTYPE  PERSONCOUNT  PEDCOUNT  \\\n",
       "0             2 -122.323148  47.703140        Angles            2         0   \n",
       "1             1 -122.347294  47.647172     Sideswipe            2         0   \n",
       "2             1 -122.334540  47.607871    Parked Car            4         0   \n",
       "3             1 -122.334803  47.604803         Other            3         0   \n",
       "4             2 -122.306426  47.545739        Angles            2         0   \n",
       "\n",
       "                  INCDATE                 INCDTTM INATTENTIONIND UNDERINFL  \\\n",
       "0  2013/03/27 00:00:00+00    3/27/2013 2:54:00 PM            NaN         N   \n",
       "1  2006/12/20 00:00:00+00   12/20/2006 6:55:00 PM            NaN         0   \n",
       "2  2004/11/18 00:00:00+00  11/18/2004 10:20:00 AM            NaN         0   \n",
       "3  2013/03/29 00:00:00+00    3/29/2013 9:26:00 AM            NaN         N   \n",
       "4  2004/01/28 00:00:00+00    1/28/2004 8:04:00 AM            NaN         0   \n",
       "\n",
       "    WEATHER ROADCOND                LIGHTCOND PEDROWNOTGRNT SPEEDING  \\\n",
       "0  Overcast      Wet                 Daylight           NaN      NaN   \n",
       "1   Raining      Wet  Dark - Street Lights On           NaN      NaN   \n",
       "2  Overcast      Dry                 Daylight           NaN      NaN   \n",
       "3     Clear      Dry                 Daylight           NaN      NaN   \n",
       "4   Raining      Wet                 Daylight           NaN      NaN   \n",
       "\n",
       "  ST_COLCODE  CROSSWALKKEY  \n",
       "0         10             0  \n",
       "1         11             0  \n",
       "2         32             0  \n",
       "3         23             0  \n",
       "4         10             0  "
      ]
     },
     "execution_count": 8,
     "metadata": {},
     "output_type": "execute_result"
    }
   ],
   "source": [
    "df.head()"
   ]
  },
  {
   "cell_type": "code",
   "execution_count": null,
   "metadata": {},
   "outputs": [],
   "source": []
  }
 ],
 "metadata": {
  "kernelspec": {
   "display_name": "Python 3",
   "language": "python",
   "name": "python3"
  },
  "language_info": {
   "codemirror_mode": {
    "name": "ipython",
    "version": 3
   },
   "file_extension": ".py",
   "mimetype": "text/x-python",
   "name": "python",
   "nbconvert_exporter": "python",
   "pygments_lexer": "ipython3",
   "version": "3.7.3"
  }
 },
 "nbformat": 4,
 "nbformat_minor": 4
}
